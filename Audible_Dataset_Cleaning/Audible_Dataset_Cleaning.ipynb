{
 "cells": [
  {
   "cell_type": "markdown",
   "metadata": {
    "id": "1-EbgBO3hInD"
   },
   "source": [
    "**Problem:**\n",
    "\n",
    "You are given the following dataset:\n",
    "1. **Audible Data** : https://1drv.ms/u/s!AiqdXCxPTydhoog8ckLN-6Cw55fzIg?e=EWgZ5d\n",
    "\n",
    "Your task is to:\n",
    "- Find the problems with the datasets.\n",
    "- Define the Data Quality Dimensions.\n",
    "- Try to clean the datasets."
   ]
  },
  {
   "cell_type": "markdown",
   "metadata": {
    "id": "nxoqZxJMhI_y"
   },
   "source": [
    "### Summary of the data\n",
    "\n",
    "The data set contains list of audiobooks from 1998 till 2025. It contains all the important info related to the audiobooks. The data is scrapped from audible.in "
   ]
  },
  {
   "cell_type": "markdown",
   "metadata": {
    "tags": []
   },
   "source": [
    "### Addtional info\n",
    "\n",
    "- It contains books written in more than 36 languages.\n"
   ]
  },
  {
   "cell_type": "markdown",
   "metadata": {},
   "source": [
    "### Column Breakdown\n",
    "- name: Name of the audiobook\n",
    "- author: Author of the audiobook\n",
    "- narrator: Narrator of the audiobook\n",
    "- time: Length of the audiobook\n",
    "- releasedate: Release date of the audiobook\n",
    "- language: Language of the audiobook\n",
    "- stars: No. of stars the audiobook received\n",
    "- price: Price of the audiobook in INR\n",
    "- ratings: No. of reviews received by the audiobook"
   ]
  },
  {
   "cell_type": "markdown",
   "metadata": {},
   "source": [
    "### Issues with Data\n",
    "\n",
    "**Quality Issuses:**\n",
    "\n",
    "- `name`, `narrator` and `author` has some strange parts likes â€™, Ã¤, Ã¼ \n",
    "\n",
    "- `author`: each value starts with writtenby: should be removed\n",
    "    \n",
    "- `narrator`: each value starts with narratedby: should be removed\n",
    "    \n",
    "- `time`: not in datetime format \n",
    "    \n",
    "- `releasedate`: not in datetime format \n",
    "    \n",
    "- `Language`: inconsistent casing\n",
    "    \n",
    "- `stars`: should only have rating out of 5 stars unnescesary \n",
    "    \n",
    "- `price`: some books are free so change that to 0 price. \n",
    "\n",
    "**Tidiness Issues:**\n",
    "- `name`: \n",
    "    - Some books has the version in different formats.(These versions should not be removed, as they hold significance, so treat them according to the task given to you)\n",
    "        - with hast-tag like \"Geronimo Stilton #11 & #12\".\n",
    "        - \"Magic Tree House Collection: Books 9-16\".\n",
    "        - \"The 39 Clues, Book 6\"\n",
    "        \n",
    "- `author`: multiple author name written in single column ,Should be written in separate columns\n",
    "- `narrator`: multiple narrator name written in single column , should be written in separate column\n",
    "- `stars`: star and rating are in single column should be separate\n",
    "\n"
   ]
  },
  {
   "cell_type": "code",
   "execution_count": 1,
   "metadata": {
    "tags": []
   },
   "outputs": [],
   "source": [
    "# imports"
   ]
  },
  {
   "cell_type": "code",
   "execution_count": 2,
   "metadata": {
    "tags": []
   },
   "outputs": [],
   "source": [
    "import pandas as pd\n",
    "import numpy as np\n",
    "import re\n",
    "from datetime import timedelta\n"
   ]
  },
  {
   "cell_type": "markdown",
   "metadata": {},
   "source": [
    "#### Programmatic Assessment "
   ]
  },
  {
   "cell_type": "code",
   "execution_count": 3,
   "metadata": {
    "tags": []
   },
   "outputs": [],
   "source": [
    "data= pd.read_csv('audible_uncleaned.csv')"
   ]
  },
  {
   "cell_type": "code",
   "execution_count": 4,
   "metadata": {},
   "outputs": [],
   "source": [
    "# first make a copy of the df\n",
    "df= data.copy()"
   ]
  },
  {
   "cell_type": "code",
   "execution_count": 5,
   "metadata": {
    "tags": []
   },
   "outputs": [
    {
     "data": {
      "text/plain": [
       "Index(['name', 'author', 'narrator', 'time', 'releasedate', 'language',\n",
       "       'stars', 'price'],\n",
       "      dtype='object')"
      ]
     },
     "execution_count": 5,
     "metadata": {},
     "output_type": "execute_result"
    }
   ],
   "source": [
    "df.columns"
   ]
  },
  {
   "cell_type": "code",
   "execution_count": 6,
   "metadata": {
    "tags": []
   },
   "outputs": [
    {
     "name": "stdout",
     "output_type": "stream",
     "text": [
      "<class 'pandas.core.frame.DataFrame'>\n",
      "RangeIndex: 87489 entries, 0 to 87488\n",
      "Data columns (total 8 columns):\n",
      " #   Column       Non-Null Count  Dtype \n",
      "---  ------       --------------  ----- \n",
      " 0   name         87489 non-null  object\n",
      " 1   author       87489 non-null  object\n",
      " 2   narrator     87489 non-null  object\n",
      " 3   time         87489 non-null  object\n",
      " 4   releasedate  87489 non-null  object\n",
      " 5   language     87489 non-null  object\n",
      " 6   stars        87489 non-null  object\n",
      " 7   price        87489 non-null  object\n",
      "dtypes: object(8)\n",
      "memory usage: 5.3+ MB\n"
     ]
    }
   ],
   "source": [
    "df.info()"
   ]
  },
  {
   "cell_type": "code",
   "execution_count": 7,
   "metadata": {
    "tags": []
   },
   "outputs": [
    {
     "data": {
      "text/plain": [
       "(87489, 8)"
      ]
     },
     "execution_count": 7,
     "metadata": {},
     "output_type": "execute_result"
    }
   ],
   "source": [
    "df.shape"
   ]
  },
  {
   "cell_type": "code",
   "execution_count": 8,
   "metadata": {
    "tags": []
   },
   "outputs": [
    {
     "data": {
      "text/plain": [
       "0"
      ]
     },
     "execution_count": 8,
     "metadata": {},
     "output_type": "execute_result"
    }
   ],
   "source": [
    "df.duplicated().sum()"
   ]
  },
  {
   "cell_type": "code",
   "execution_count": 9,
   "metadata": {
    "tags": []
   },
   "outputs": [
    {
     "data": {
      "text/html": [
       "<div>\n",
       "<style scoped>\n",
       "    .dataframe tbody tr th:only-of-type {\n",
       "        vertical-align: middle;\n",
       "    }\n",
       "\n",
       "    .dataframe tbody tr th {\n",
       "        vertical-align: top;\n",
       "    }\n",
       "\n",
       "    .dataframe thead th {\n",
       "        text-align: right;\n",
       "    }\n",
       "</style>\n",
       "<table border=\"1\" class=\"dataframe\">\n",
       "  <thead>\n",
       "    <tr style=\"text-align: right;\">\n",
       "      <th></th>\n",
       "      <th>name</th>\n",
       "      <th>author</th>\n",
       "      <th>narrator</th>\n",
       "      <th>time</th>\n",
       "      <th>releasedate</th>\n",
       "      <th>language</th>\n",
       "      <th>stars</th>\n",
       "      <th>price</th>\n",
       "    </tr>\n",
       "  </thead>\n",
       "  <tbody>\n",
       "    <tr>\n",
       "      <th>count</th>\n",
       "      <td>87489</td>\n",
       "      <td>87489</td>\n",
       "      <td>87489</td>\n",
       "      <td>87489</td>\n",
       "      <td>87489</td>\n",
       "      <td>87489</td>\n",
       "      <td>87489</td>\n",
       "      <td>87489</td>\n",
       "    </tr>\n",
       "    <tr>\n",
       "      <th>unique</th>\n",
       "      <td>82767</td>\n",
       "      <td>48374</td>\n",
       "      <td>29717</td>\n",
       "      <td>2284</td>\n",
       "      <td>5058</td>\n",
       "      <td>36</td>\n",
       "      <td>665</td>\n",
       "      <td>1011</td>\n",
       "    </tr>\n",
       "    <tr>\n",
       "      <th>top</th>\n",
       "      <td>The Art of War</td>\n",
       "      <td>Writtenby:矢島雅弘,石橋遊</td>\n",
       "      <td>Narratedby:anonymous</td>\n",
       "      <td>2 mins</td>\n",
       "      <td>16-05-18</td>\n",
       "      <td>English</td>\n",
       "      <td>Not rated yet</td>\n",
       "      <td>586.00</td>\n",
       "    </tr>\n",
       "    <tr>\n",
       "      <th>freq</th>\n",
       "      <td>20</td>\n",
       "      <td>874</td>\n",
       "      <td>1034</td>\n",
       "      <td>372</td>\n",
       "      <td>773</td>\n",
       "      <td>61884</td>\n",
       "      <td>72417</td>\n",
       "      <td>5533</td>\n",
       "    </tr>\n",
       "  </tbody>\n",
       "</table>\n",
       "</div>"
      ],
      "text/plain": [
       "                  name              author              narrator    time  \\\n",
       "count            87489               87489                 87489   87489   \n",
       "unique           82767               48374                 29717    2284   \n",
       "top     The Art of War  Writtenby:矢島雅弘,石橋遊  Narratedby:anonymous  2 mins   \n",
       "freq                20                 874                  1034     372   \n",
       "\n",
       "       releasedate language          stars   price  \n",
       "count        87489    87489          87489   87489  \n",
       "unique        5058       36            665    1011  \n",
       "top       16-05-18  English  Not rated yet  586.00  \n",
       "freq           773    61884          72417    5533  "
      ]
     },
     "execution_count": 9,
     "metadata": {},
     "output_type": "execute_result"
    }
   ],
   "source": [
    "df.describe()"
   ]
  },
  {
   "cell_type": "code",
   "execution_count": 10,
   "metadata": {
    "tags": []
   },
   "outputs": [],
   "source": [
    "pd.set_option('display.max_rows', None)"
   ]
  },
  {
   "cell_type": "markdown",
   "metadata": {},
   "source": [
    "### price"
   ]
  },
  {
   "cell_type": "code",
   "execution_count": 11,
   "metadata": {
    "tags": []
   },
   "outputs": [
    {
     "data": {
      "text/plain": [
       "name           338\n",
       "author         338\n",
       "narrator       338\n",
       "time           338\n",
       "releasedate    338\n",
       "language       338\n",
       "stars          338\n",
       "price          338\n",
       "dtype: int64"
      ]
     },
     "execution_count": 11,
     "metadata": {},
     "output_type": "execute_result"
    }
   ],
   "source": [
    "df[df['price'] == 'Free'].count()"
   ]
  },
  {
   "cell_type": "code",
   "execution_count": 12,
   "metadata": {
    "tags": []
   },
   "outputs": [],
   "source": [
    "# storing the index of the rows where 'Free' is written\n",
    "temp_df = df[df['price'] == 'Free']"
   ]
  },
  {
   "cell_type": "code",
   "execution_count": 13,
   "metadata": {
    "tags": []
   },
   "outputs": [],
   "source": [
    "# replacing it with 0\n",
    "df.loc[temp_df.index, 'price']='0'"
   ]
  },
  {
   "cell_type": "code",
   "execution_count": 14,
   "metadata": {},
   "outputs": [],
   "source": [
    "# changing its to float . \n",
    "# some values like 1,234 that cannot be converted directly into float so first we will remove the commas from them. \n",
    "df['price'] = df['price'].str.replace(',', '').astype(float)"
   ]
  },
  {
   "cell_type": "markdown",
   "metadata": {},
   "source": [
    "### release date"
   ]
  },
  {
   "cell_type": "code",
   "execution_count": 15,
   "metadata": {},
   "outputs": [],
   "source": [
    "# changing it to datetime\n",
    "df['releasedate'] = pd.to_datetime(df['releasedate'])"
   ]
  },
  {
   "cell_type": "markdown",
   "metadata": {},
   "source": [
    "### time"
   ]
  },
  {
   "cell_type": "code",
   "execution_count": 16,
   "metadata": {
    "tags": []
   },
   "outputs": [],
   "source": [
    "# This function converts the time to a `timedelta` object.\n",
    "# Since `timedelta` represents durations, it is more suitable for this column.\n",
    "\n",
    "def parse_duration(duration_str):\n",
    "    # regex pattern \n",
    "    pattern =  '^((?P<hours>\\d+)\\s*(?:hr?s?))?(?:\\s*(?:and)?)?\\s*((?P<minutes>[0-5][0-9]|[0-9])\\s*(?:min?s?))?$'\n",
    "    \n",
    "    match = re.search(pattern, duration_str, re.IGNORECASE)\n",
    "    \n",
    "    if not match:\n",
    "        raise ValueError(\"Duration string is not in the expected format\")\n",
    "    \n",
    "    # extracting the hours and minutes \n",
    "    hours = match.group('hours')\n",
    "    minutes = match.group('minutes')\n",
    "    \n",
    "    # Convert to integer, defaulting to 0 if not provided\n",
    "    hours = int(hours) if hours else 0\n",
    "    minutes = int(minutes) if minutes else 0\n",
    "    \n",
    "    # Create a timedelta object\n",
    "    timedelta_obj = timedelta(hours=hours, minutes=minutes)\n",
    "    \n",
    "    return timedelta_obj"
   ]
  },
  {
   "cell_type": "code",
   "execution_count": 17,
   "metadata": {
    "tags": []
   },
   "outputs": [],
   "source": [
    "# some values in time is 'Less than 1 minute' which will cause problem when we will pass this series to the function so will change it to 1 min\n",
    "# here I gathered the indexes that has this value\n",
    "temp_df = df[df['time'] == 'Less than 1 minute']"
   ]
  },
  {
   "cell_type": "code",
   "execution_count": 18,
   "metadata": {
    "tags": []
   },
   "outputs": [],
   "source": [
    "# changing the value\n",
    "df.loc[temp_df.index, 'time'] = '1 min'"
   ]
  },
  {
   "cell_type": "code",
   "execution_count": 19,
   "metadata": {
    "tags": []
   },
   "outputs": [],
   "source": [
    "# applying/calling the function on the series\n",
    "df['time'] = df['time'].apply(parse_duration)"
   ]
  },
  {
   "cell_type": "markdown",
   "metadata": {},
   "source": [
    "### language"
   ]
  },
  {
   "cell_type": "code",
   "execution_count": 20,
   "metadata": {
    "tags": []
   },
   "outputs": [],
   "source": [
    "# changing to title case\n",
    "df['language'] = df['language'].str.title()"
   ]
  },
  {
   "cell_type": "markdown",
   "metadata": {
    "tags": []
   },
   "source": [
    "### author"
   ]
  },
  {
   "cell_type": "code",
   "execution_count": 21,
   "metadata": {
    "tags": []
   },
   "outputs": [],
   "source": [
    "#df[\"author\"].str.encode('ascii', 'ignore').str.decode('ascii').copy()"
   ]
  },
  {
   "cell_type": "code",
   "execution_count": 22,
   "metadata": {},
   "outputs": [],
   "source": [
    "#remove the strange parts\n",
    "df[\"author\"]   = df[\"author\"].str.encode('ascii', 'ignore').str.decode('ascii').copy()"
   ]
  },
  {
   "cell_type": "code",
   "execution_count": 23,
   "metadata": {
    "tags": []
   },
   "outputs": [],
   "source": [
    "# removing 'WrittenBy:' from author column\n",
    "df['author'] = df['author'].str.strip().str.split(':').str.get(1)"
   ]
  },
  {
   "cell_type": "code",
   "execution_count": 24,
   "metadata": {
    "tags": []
   },
   "outputs": [],
   "source": [
    "# this function will add space between the person's first and last name\n",
    "def add_space(name):\n",
    "    if isinstance(name, str):  # Check if the input is a string\n",
    "        return re.sub(r'(?<=[a-z])([A-Z])', r' \\1', name)\n",
    "    return name  # If not a string (e.g., NaN), return the value as is"
   ]
  },
  {
   "cell_type": "code",
   "execution_count": 25,
   "metadata": {
    "tags": []
   },
   "outputs": [],
   "source": [
    "df['author'] = df['author'].apply(add_space)"
   ]
  },
  {
   "cell_type": "code",
   "execution_count": 26,
   "metadata": {
    "tags": []
   },
   "outputs": [],
   "source": [
    "# splitting the authors into multiple columns\n",
    "author1 = df['author'].str.strip().str.split(',').str.get(0)\n",
    "df.insert(2, 'author1',author1)\n",
    "\n",
    "author2 = df['author'].str.strip().str.split(',').str.get(1)\n",
    "df.insert(3, 'author2',author2)\n",
    "\n",
    "author3 = df['author'].str.strip().str.split(',').str.get(2)\n",
    "df.insert(4, 'author3',author3)\n",
    "\n",
    "author4 = df['author'].str.strip().str.split(',').str.get(3)\n",
    "df.insert(5, 'author4',author4)\n"
   ]
  },
  {
   "cell_type": "code",
   "execution_count": 27,
   "metadata": {},
   "outputs": [],
   "source": [
    "# drop the author column as it is of no use now\n",
    "df.drop('author', axis=1, inplace=True)"
   ]
  },
  {
   "cell_type": "markdown",
   "metadata": {},
   "source": [
    "### narrator"
   ]
  },
  {
   "cell_type": "code",
   "execution_count": 28,
   "metadata": {},
   "outputs": [],
   "source": [
    "#remove the strange parts\n",
    "df[\"narrator\"] = df[\"narrator\"].str.encode('ascii', 'ignore').str.decode('ascii').copy()"
   ]
  },
  {
   "cell_type": "code",
   "execution_count": 29,
   "metadata": {
    "tags": []
   },
   "outputs": [],
   "source": [
    "# removing 'narratedby' from narrator column\n",
    "df['narrator'] = df['narrator'].str.strip().str.split(':').str.get(1)"
   ]
  },
  {
   "cell_type": "code",
   "execution_count": 30,
   "metadata": {
    "tags": []
   },
   "outputs": [],
   "source": [
    "# adding space between first and last name\n",
    "df['narrator'] = df['narrator'].apply(add_space)"
   ]
  },
  {
   "cell_type": "code",
   "execution_count": 31,
   "metadata": {
    "tags": []
   },
   "outputs": [],
   "source": [
    "# splitting the narrators into multiple columns\n",
    "narrator1 = df['narrator'].str.strip().str.split(',').str.get(0)\n",
    "df.insert(6, 'narrator1',narrator1)\n",
    "\n",
    "narrator2 = df['narrator'].str.strip().str.split(',').str.get(1)\n",
    "df.insert(7, 'narrator2',narrator2)\n",
    "\n",
    "narrator3 = df['narrator'].str.strip().str.split(',').str.get(2)\n",
    "df.insert(8, 'narrator3',narrator3)\n",
    "\n",
    "narrator4 = df['narrator'].str.strip().str.split(',').str.get(3)\n",
    "df.insert(9, 'narrator4',narrator4)\n"
   ]
  },
  {
   "cell_type": "code",
   "execution_count": 32,
   "metadata": {},
   "outputs": [],
   "source": [
    "# drop the narrator column as it is of no use now\n",
    "df.drop('narrator', axis=1, inplace=True)"
   ]
  },
  {
   "cell_type": "markdown",
   "metadata": {},
   "source": [
    "### name"
   ]
  },
  {
   "cell_type": "code",
   "execution_count": 33,
   "metadata": {},
   "outputs": [],
   "source": [
    "# when we will remove strange parts from the name column it will make some values nan\n",
    "# so storing them so that later we can replace the nan values with the old ones\n",
    "nan_created_values = df[df[\"name\"].str.encode('ascii', 'ignore').isnull()]"
   ]
  },
  {
   "cell_type": "code",
   "execution_count": 34,
   "metadata": {},
   "outputs": [],
   "source": [
    "#remove the strange parts\n",
    "df[\"name\"] = df[\"name\"].str.encode('ascii', 'ignore').str.decode('ascii').copy()"
   ]
  },
  {
   "cell_type": "code",
   "execution_count": 35,
   "metadata": {},
   "outputs": [],
   "source": [
    "# now remove the NaN values of the \"name\" column with the old ones\n",
    "for index in nan_created_values.index:\n",
    "    df[\"name\"][index] = nan_created_values[\"name\"][index]"
   ]
  },
  {
   "cell_type": "code",
   "execution_count": null,
   "metadata": {},
   "outputs": [],
   "source": []
  },
  {
   "cell_type": "markdown",
   "metadata": {},
   "source": [
    "### stars"
   ]
  },
  {
   "cell_type": "code",
   "execution_count": 36,
   "metadata": {
    "tags": []
   },
   "outputs": [],
   "source": [
    "df['num_reviews'] = df['stars'].str.strip().str.split('stars').str.get(1)"
   ]
  },
  {
   "cell_type": "code",
   "execution_count": 37,
   "metadata": {},
   "outputs": [],
   "source": [
    "df['stars'] = df['stars'].str.strip().str.split('stars').str.get(0)"
   ]
  },
  {
   "cell_type": "code",
   "execution_count": 38,
   "metadata": {
    "tags": []
   },
   "outputs": [],
   "source": [
    "df['stars'] = df['stars'].str.strip().str.split(' ').str.get(0)"
   ]
  },
  {
   "cell_type": "code",
   "execution_count": 39,
   "metadata": {
    "tags": []
   },
   "outputs": [],
   "source": [
    "temp_df = df[df['stars'] == 'Not']"
   ]
  },
  {
   "cell_type": "code",
   "execution_count": 40,
   "metadata": {},
   "outputs": [],
   "source": [
    "df.loc[temp_df.index, 'stars'] = '0'"
   ]
  },
  {
   "cell_type": "code",
   "execution_count": 41,
   "metadata": {
    "tags": []
   },
   "outputs": [],
   "source": [
    "df['stars'] = df['stars'].astype(float)"
   ]
  },
  {
   "cell_type": "markdown",
   "metadata": {},
   "source": [
    "### num_reviews"
   ]
  },
  {
   "cell_type": "code",
   "execution_count": 42,
   "metadata": {
    "tags": []
   },
   "outputs": [],
   "source": [
    "# first remove the 'ratings' part\n",
    "# Then any commas from the string \n",
    "# converting it to float type\n",
    "df['num_reviews'] = df['num_reviews'].str.strip().str.split(' ').str.get(0).str.replace(',', '').astype(float)"
   ]
  },
  {
   "cell_type": "markdown",
   "metadata": {},
   "source": [
    "### Dataset After Being Cleaned"
   ]
  },
  {
   "cell_type": "code",
   "execution_count": 43,
   "metadata": {
    "tags": []
   },
   "outputs": [
    {
     "name": "stdout",
     "output_type": "stream",
     "text": [
      "<class 'pandas.core.frame.DataFrame'>\n",
      "RangeIndex: 87489 entries, 0 to 87488\n",
      "Data columns (total 15 columns):\n",
      " #   Column       Non-Null Count  Dtype          \n",
      "---  ------       --------------  -----          \n",
      " 0   name         87489 non-null  object         \n",
      " 1   author1      87489 non-null  object         \n",
      " 2   author2      13727 non-null  object         \n",
      " 3   author3      2354 non-null   object         \n",
      " 4   author4      776 non-null    object         \n",
      " 5   narrator1    87489 non-null  object         \n",
      " 6   narrator2    11735 non-null  object         \n",
      " 7   narrator3    2881 non-null   object         \n",
      " 8   narrator4    1656 non-null   object         \n",
      " 9   time         87489 non-null  timedelta64[ns]\n",
      " 10  releasedate  87489 non-null  datetime64[ns] \n",
      " 11  language     87489 non-null  object         \n",
      " 12  stars        87489 non-null  float64        \n",
      " 13  price        87489 non-null  float64        \n",
      " 14  num_reviews  15072 non-null  float64        \n",
      "dtypes: datetime64[ns](1), float64(3), object(10), timedelta64[ns](1)\n",
      "memory usage: 10.0+ MB\n"
     ]
    }
   ],
   "source": [
    "df.info()"
   ]
  },
  {
   "cell_type": "code",
   "execution_count": 45,
   "metadata": {
    "tags": []
   },
   "outputs": [
    {
     "data": {
      "text/html": [
       "<div>\n",
       "<style scoped>\n",
       "    .dataframe tbody tr th:only-of-type {\n",
       "        vertical-align: middle;\n",
       "    }\n",
       "\n",
       "    .dataframe tbody tr th {\n",
       "        vertical-align: top;\n",
       "    }\n",
       "\n",
       "    .dataframe thead th {\n",
       "        text-align: right;\n",
       "    }\n",
       "</style>\n",
       "<table border=\"1\" class=\"dataframe\">\n",
       "  <thead>\n",
       "    <tr style=\"text-align: right;\">\n",
       "      <th></th>\n",
       "      <th>name</th>\n",
       "      <th>author1</th>\n",
       "      <th>author2</th>\n",
       "      <th>author3</th>\n",
       "      <th>author4</th>\n",
       "      <th>narrator1</th>\n",
       "      <th>narrator2</th>\n",
       "      <th>narrator3</th>\n",
       "      <th>narrator4</th>\n",
       "      <th>time</th>\n",
       "      <th>releasedate</th>\n",
       "      <th>language</th>\n",
       "      <th>stars</th>\n",
       "      <th>price</th>\n",
       "      <th>num_reviews</th>\n",
       "    </tr>\n",
       "  </thead>\n",
       "  <tbody>\n",
       "    <tr>\n",
       "      <th>0</th>\n",
       "      <td>Geronimo Stilton #11 &amp; #12</td>\n",
       "      <td>Geronimo Stilton</td>\n",
       "      <td>NaN</td>\n",
       "      <td>NaN</td>\n",
       "      <td>NaN</td>\n",
       "      <td>Bill Lobely</td>\n",
       "      <td>NaN</td>\n",
       "      <td>NaN</td>\n",
       "      <td>NaN</td>\n",
       "      <td>0 days 02:20:00</td>\n",
       "      <td>2008-04-08</td>\n",
       "      <td>English</td>\n",
       "      <td>5.0</td>\n",
       "      <td>468.0</td>\n",
       "      <td>34.0</td>\n",
       "    </tr>\n",
       "    <tr>\n",
       "      <th>1</th>\n",
       "      <td>The Burning Maze</td>\n",
       "      <td>Rick Riordan</td>\n",
       "      <td>NaN</td>\n",
       "      <td>NaN</td>\n",
       "      <td>NaN</td>\n",
       "      <td>Robbie Daymond</td>\n",
       "      <td>NaN</td>\n",
       "      <td>NaN</td>\n",
       "      <td>NaN</td>\n",
       "      <td>0 days 13:08:00</td>\n",
       "      <td>2018-01-05</td>\n",
       "      <td>English</td>\n",
       "      <td>4.5</td>\n",
       "      <td>820.0</td>\n",
       "      <td>41.0</td>\n",
       "    </tr>\n",
       "    <tr>\n",
       "      <th>2</th>\n",
       "      <td>The Deep End</td>\n",
       "      <td>Jeff Kinney</td>\n",
       "      <td>NaN</td>\n",
       "      <td>NaN</td>\n",
       "      <td>NaN</td>\n",
       "      <td>Dan Russell</td>\n",
       "      <td>NaN</td>\n",
       "      <td>NaN</td>\n",
       "      <td>NaN</td>\n",
       "      <td>0 days 02:03:00</td>\n",
       "      <td>2020-06-11</td>\n",
       "      <td>English</td>\n",
       "      <td>4.5</td>\n",
       "      <td>410.0</td>\n",
       "      <td>38.0</td>\n",
       "    </tr>\n",
       "    <tr>\n",
       "      <th>3</th>\n",
       "      <td>Daughter of the Deep</td>\n",
       "      <td>Rick Riordan</td>\n",
       "      <td>NaN</td>\n",
       "      <td>NaN</td>\n",
       "      <td>NaN</td>\n",
       "      <td>Soneela Nankani</td>\n",
       "      <td>NaN</td>\n",
       "      <td>NaN</td>\n",
       "      <td>NaN</td>\n",
       "      <td>0 days 11:16:00</td>\n",
       "      <td>2021-05-10</td>\n",
       "      <td>English</td>\n",
       "      <td>4.5</td>\n",
       "      <td>615.0</td>\n",
       "      <td>12.0</td>\n",
       "    </tr>\n",
       "    <tr>\n",
       "      <th>4</th>\n",
       "      <td>The Lightning Thief: Percy Jackson, Book 1</td>\n",
       "      <td>Rick Riordan</td>\n",
       "      <td>NaN</td>\n",
       "      <td>NaN</td>\n",
       "      <td>NaN</td>\n",
       "      <td>Jesse Bernstein</td>\n",
       "      <td>NaN</td>\n",
       "      <td>NaN</td>\n",
       "      <td>NaN</td>\n",
       "      <td>0 days 10:00:00</td>\n",
       "      <td>2010-01-13</td>\n",
       "      <td>English</td>\n",
       "      <td>4.5</td>\n",
       "      <td>820.0</td>\n",
       "      <td>181.0</td>\n",
       "    </tr>\n",
       "    <tr>\n",
       "      <th>5</th>\n",
       "      <td>The Hunger Games: Special Edition</td>\n",
       "      <td>Suzanne Collins</td>\n",
       "      <td>NaN</td>\n",
       "      <td>NaN</td>\n",
       "      <td>NaN</td>\n",
       "      <td>Tatiana Maslany</td>\n",
       "      <td>NaN</td>\n",
       "      <td>NaN</td>\n",
       "      <td>NaN</td>\n",
       "      <td>0 days 10:35:00</td>\n",
       "      <td>2018-10-30</td>\n",
       "      <td>English</td>\n",
       "      <td>5.0</td>\n",
       "      <td>656.0</td>\n",
       "      <td>72.0</td>\n",
       "    </tr>\n",
       "    <tr>\n",
       "      <th>6</th>\n",
       "      <td>Quest for the Diamond Sword</td>\n",
       "      <td>Winter Morgan</td>\n",
       "      <td>NaN</td>\n",
       "      <td>NaN</td>\n",
       "      <td>NaN</td>\n",
       "      <td>Luke Daniels</td>\n",
       "      <td>NaN</td>\n",
       "      <td>NaN</td>\n",
       "      <td>NaN</td>\n",
       "      <td>0 days 02:23:00</td>\n",
       "      <td>2014-11-25</td>\n",
       "      <td>English</td>\n",
       "      <td>5.0</td>\n",
       "      <td>233.0</td>\n",
       "      <td>11.0</td>\n",
       "    </tr>\n",
       "    <tr>\n",
       "      <th>7</th>\n",
       "      <td>The Dark Prophecy</td>\n",
       "      <td>Rick Riordan</td>\n",
       "      <td>NaN</td>\n",
       "      <td>NaN</td>\n",
       "      <td>NaN</td>\n",
       "      <td>Robbie Daymond</td>\n",
       "      <td>NaN</td>\n",
       "      <td>NaN</td>\n",
       "      <td>NaN</td>\n",
       "      <td>0 days 12:32:00</td>\n",
       "      <td>2017-02-05</td>\n",
       "      <td>English</td>\n",
       "      <td>5.0</td>\n",
       "      <td>820.0</td>\n",
       "      <td>50.0</td>\n",
       "    </tr>\n",
       "    <tr>\n",
       "      <th>8</th>\n",
       "      <td>Merlin Mission Collection</td>\n",
       "      <td>Mary Pope Osborne</td>\n",
       "      <td>NaN</td>\n",
       "      <td>NaN</td>\n",
       "      <td>NaN</td>\n",
       "      <td>Mary Pope Osborne</td>\n",
       "      <td>NaN</td>\n",
       "      <td>NaN</td>\n",
       "      <td>NaN</td>\n",
       "      <td>0 days 10:56:00</td>\n",
       "      <td>2017-02-05</td>\n",
       "      <td>English</td>\n",
       "      <td>5.0</td>\n",
       "      <td>1256.0</td>\n",
       "      <td>5.0</td>\n",
       "    </tr>\n",
       "    <tr>\n",
       "      <th>9</th>\n",
       "      <td>The Tyrants Tomb</td>\n",
       "      <td>Rick Riordan</td>\n",
       "      <td>NaN</td>\n",
       "      <td>NaN</td>\n",
       "      <td>NaN</td>\n",
       "      <td>Robbie Daymond</td>\n",
       "      <td>NaN</td>\n",
       "      <td>NaN</td>\n",
       "      <td>NaN</td>\n",
       "      <td>0 days 13:22:00</td>\n",
       "      <td>2019-09-24</td>\n",
       "      <td>English</td>\n",
       "      <td>5.0</td>\n",
       "      <td>820.0</td>\n",
       "      <td>58.0</td>\n",
       "    </tr>\n",
       "    <tr>\n",
       "      <th>10</th>\n",
       "      <td>The Titan's Curse: Percy Jackson, Book 3</td>\n",
       "      <td>Rick Riordan</td>\n",
       "      <td>NaN</td>\n",
       "      <td>NaN</td>\n",
       "      <td>NaN</td>\n",
       "      <td>Jesse Bernstein</td>\n",
       "      <td>NaN</td>\n",
       "      <td>NaN</td>\n",
       "      <td>NaN</td>\n",
       "      <td>0 days 08:48:00</td>\n",
       "      <td>2010-01-14</td>\n",
       "      <td>English</td>\n",
       "      <td>4.5</td>\n",
       "      <td>820.0</td>\n",
       "      <td>130.0</td>\n",
       "    </tr>\n",
       "    <tr>\n",
       "      <th>11</th>\n",
       "      <td>Magic Tree House Collection: Books 9-16</td>\n",
       "      <td>Mary Pope Osborne</td>\n",
       "      <td>NaN</td>\n",
       "      <td>NaN</td>\n",
       "      <td>NaN</td>\n",
       "      <td>Mary Pope Osborne</td>\n",
       "      <td>NaN</td>\n",
       "      <td>NaN</td>\n",
       "      <td>NaN</td>\n",
       "      <td>0 days 05:23:00</td>\n",
       "      <td>2011-08-24</td>\n",
       "      <td>English</td>\n",
       "      <td>5.0</td>\n",
       "      <td>1206.0</td>\n",
       "      <td>6.0</td>\n",
       "    </tr>\n",
       "    <tr>\n",
       "      <th>12</th>\n",
       "      <td>Magic Tree House Collection: Books 1-8</td>\n",
       "      <td>Mary Pope Osborne</td>\n",
       "      <td>NaN</td>\n",
       "      <td>NaN</td>\n",
       "      <td>NaN</td>\n",
       "      <td>Mary Pope Osborne</td>\n",
       "      <td>NaN</td>\n",
       "      <td>NaN</td>\n",
       "      <td>NaN</td>\n",
       "      <td>0 days 06:01:00</td>\n",
       "      <td>2011-09-27</td>\n",
       "      <td>English</td>\n",
       "      <td>5.0</td>\n",
       "      <td>1206.0</td>\n",
       "      <td>7.0</td>\n",
       "    </tr>\n",
       "    <tr>\n",
       "      <th>13</th>\n",
       "      <td>Magnus Chase and the Ship of the Dead</td>\n",
       "      <td>Rick Riordan</td>\n",
       "      <td>NaN</td>\n",
       "      <td>NaN</td>\n",
       "      <td>NaN</td>\n",
       "      <td>Michael Crouch</td>\n",
       "      <td>NaN</td>\n",
       "      <td>NaN</td>\n",
       "      <td>NaN</td>\n",
       "      <td>0 days 12:58:00</td>\n",
       "      <td>2017-03-10</td>\n",
       "      <td>English</td>\n",
       "      <td>5.0</td>\n",
       "      <td>820.0</td>\n",
       "      <td>41.0</td>\n",
       "    </tr>\n",
       "    <tr>\n",
       "      <th>14</th>\n",
       "      <td>Northern Lights</td>\n",
       "      <td>Philip Pullman</td>\n",
       "      <td>NaN</td>\n",
       "      <td>NaN</td>\n",
       "      <td>NaN</td>\n",
       "      <td>Philip Pullman</td>\n",
       "      <td>fullcast</td>\n",
       "      <td>Ruth Wilson</td>\n",
       "      <td>NaN</td>\n",
       "      <td>0 days 11:55:00</td>\n",
       "      <td>2021-06-24</td>\n",
       "      <td>English</td>\n",
       "      <td>4.0</td>\n",
       "      <td>1093.0</td>\n",
       "      <td>2.0</td>\n",
       "    </tr>\n",
       "    <tr>\n",
       "      <th>15</th>\n",
       "      <td>Geronimo Stilton #13 and #14</td>\n",
       "      <td>Geronimo Stilton</td>\n",
       "      <td>NaN</td>\n",
       "      <td>NaN</td>\n",
       "      <td>NaN</td>\n",
       "      <td>Bill Lobley</td>\n",
       "      <td>NaN</td>\n",
       "      <td>NaN</td>\n",
       "      <td>NaN</td>\n",
       "      <td>0 days 02:25:00</td>\n",
       "      <td>2008-08-02</td>\n",
       "      <td>English</td>\n",
       "      <td>4.5</td>\n",
       "      <td>467.0</td>\n",
       "      <td>33.0</td>\n",
       "    </tr>\n",
       "    <tr>\n",
       "      <th>16</th>\n",
       "      <td>Magic Tree House Collection</td>\n",
       "      <td>Mary Pope Osborne</td>\n",
       "      <td>NaN</td>\n",
       "      <td>NaN</td>\n",
       "      <td>NaN</td>\n",
       "      <td>Mary Pope Osborne</td>\n",
       "      <td>NaN</td>\n",
       "      <td>NaN</td>\n",
       "      <td>NaN</td>\n",
       "      <td>0 days 05:04:00</td>\n",
       "      <td>2004-12-26</td>\n",
       "      <td>English</td>\n",
       "      <td>5.0</td>\n",
       "      <td>1206.0</td>\n",
       "      <td>7.0</td>\n",
       "    </tr>\n",
       "    <tr>\n",
       "      <th>17</th>\n",
       "      <td>Exile</td>\n",
       "      <td>Shannon Messenger</td>\n",
       "      <td>NaN</td>\n",
       "      <td>NaN</td>\n",
       "      <td>NaN</td>\n",
       "      <td>Caitlin Kelly</td>\n",
       "      <td>NaN</td>\n",
       "      <td>NaN</td>\n",
       "      <td>NaN</td>\n",
       "      <td>0 days 14:41:00</td>\n",
       "      <td>2018-06-11</td>\n",
       "      <td>English</td>\n",
       "      <td>5.0</td>\n",
       "      <td>836.0</td>\n",
       "      <td>20.0</td>\n",
       "    </tr>\n",
       "    <tr>\n",
       "      <th>18</th>\n",
       "      <td>Merlin Mission Collection</td>\n",
       "      <td>Mary Pope Osborne</td>\n",
       "      <td>NaN</td>\n",
       "      <td>NaN</td>\n",
       "      <td>NaN</td>\n",
       "      <td>Mary Pope Osborne</td>\n",
       "      <td>NaN</td>\n",
       "      <td>NaN</td>\n",
       "      <td>NaN</td>\n",
       "      <td>0 days 10:18:00</td>\n",
       "      <td>2017-02-05</td>\n",
       "      <td>English</td>\n",
       "      <td>5.0</td>\n",
       "      <td>1256.0</td>\n",
       "      <td>11.0</td>\n",
       "    </tr>\n",
       "    <tr>\n",
       "      <th>19</th>\n",
       "      <td>Neverseen</td>\n",
       "      <td>Shannon Messenger</td>\n",
       "      <td>NaN</td>\n",
       "      <td>NaN</td>\n",
       "      <td>NaN</td>\n",
       "      <td>Caitlin Kelly</td>\n",
       "      <td>NaN</td>\n",
       "      <td>NaN</td>\n",
       "      <td>NaN</td>\n",
       "      <td>0 days 16:42:00</td>\n",
       "      <td>2018-06-11</td>\n",
       "      <td>English</td>\n",
       "      <td>5.0</td>\n",
       "      <td>1003.0</td>\n",
       "      <td>13.0</td>\n",
       "    </tr>\n",
       "    <tr>\n",
       "      <th>20</th>\n",
       "      <td>The Tower of Nero</td>\n",
       "      <td>Rick Riordan</td>\n",
       "      <td>NaN</td>\n",
       "      <td>NaN</td>\n",
       "      <td>NaN</td>\n",
       "      <td>Robbie Daymond</td>\n",
       "      <td>NaN</td>\n",
       "      <td>NaN</td>\n",
       "      <td>NaN</td>\n",
       "      <td>0 days 12:12:00</td>\n",
       "      <td>2020-06-10</td>\n",
       "      <td>English</td>\n",
       "      <td>5.0</td>\n",
       "      <td>615.0</td>\n",
       "      <td>79.0</td>\n",
       "    </tr>\n",
       "    <tr>\n",
       "      <th>21</th>\n",
       "      <td>Eldest: The Inheritance Cycle, Book 2</td>\n",
       "      <td>Christopher Paolini</td>\n",
       "      <td>NaN</td>\n",
       "      <td>NaN</td>\n",
       "      <td>NaN</td>\n",
       "      <td>Gerrard Doyle</td>\n",
       "      <td>NaN</td>\n",
       "      <td>NaN</td>\n",
       "      <td>NaN</td>\n",
       "      <td>0 days 23:29:00</td>\n",
       "      <td>2009-04-14</td>\n",
       "      <td>English</td>\n",
       "      <td>4.5</td>\n",
       "      <td>957.0</td>\n",
       "      <td>47.0</td>\n",
       "    </tr>\n",
       "    <tr>\n",
       "      <th>22</th>\n",
       "      <td>Artemis Fowl</td>\n",
       "      <td>Eoin Colfer</td>\n",
       "      <td>NaN</td>\n",
       "      <td>NaN</td>\n",
       "      <td>NaN</td>\n",
       "      <td>Gerry O'Brien</td>\n",
       "      <td>NaN</td>\n",
       "      <td>NaN</td>\n",
       "      <td>NaN</td>\n",
       "      <td>0 days 06:46:00</td>\n",
       "      <td>2013-11-04</td>\n",
       "      <td>English</td>\n",
       "      <td>5.0</td>\n",
       "      <td>683.0</td>\n",
       "      <td>27.0</td>\n",
       "    </tr>\n",
       "    <tr>\n",
       "      <th>23</th>\n",
       "      <td>Geronimo Stilton 22 &amp; 24</td>\n",
       "      <td>Geronimo Stilton</td>\n",
       "      <td>NaN</td>\n",
       "      <td>NaN</td>\n",
       "      <td>NaN</td>\n",
       "      <td>Bill Lobley</td>\n",
       "      <td>NaN</td>\n",
       "      <td>NaN</td>\n",
       "      <td>NaN</td>\n",
       "      <td>0 days 02:37:00</td>\n",
       "      <td>2011-01-02</td>\n",
       "      <td>English</td>\n",
       "      <td>4.5</td>\n",
       "      <td>469.0</td>\n",
       "      <td>25.0</td>\n",
       "    </tr>\n",
       "    <tr>\n",
       "      <th>24</th>\n",
       "      <td>Percy Jackson and the Battle of the Labyrinth</td>\n",
       "      <td>Rick Riordan</td>\n",
       "      <td>NaN</td>\n",
       "      <td>NaN</td>\n",
       "      <td>NaN</td>\n",
       "      <td>Jesse Bernstein</td>\n",
       "      <td>NaN</td>\n",
       "      <td>NaN</td>\n",
       "      <td>NaN</td>\n",
       "      <td>0 days 10:32:00</td>\n",
       "      <td>2010-01-21</td>\n",
       "      <td>English</td>\n",
       "      <td>5.0</td>\n",
       "      <td>820.0</td>\n",
       "      <td>101.0</td>\n",
       "    </tr>\n",
       "    <tr>\n",
       "      <th>25</th>\n",
       "      <td>Winnie-the-Pooh</td>\n",
       "      <td>A.A.Milne</td>\n",
       "      <td>NaN</td>\n",
       "      <td>NaN</td>\n",
       "      <td>NaN</td>\n",
       "      <td>Peter Dennis</td>\n",
       "      <td>NaN</td>\n",
       "      <td>NaN</td>\n",
       "      <td>NaN</td>\n",
       "      <td>0 days 02:46:00</td>\n",
       "      <td>2003-12-28</td>\n",
       "      <td>English</td>\n",
       "      <td>5.0</td>\n",
       "      <td>468.0</td>\n",
       "      <td>15.0</td>\n",
       "    </tr>\n",
       "    <tr>\n",
       "      <th>26</th>\n",
       "      <td>Magic Tree House Collection: Books 25-32</td>\n",
       "      <td>Mary Pope Osborne</td>\n",
       "      <td>NaN</td>\n",
       "      <td>NaN</td>\n",
       "      <td>NaN</td>\n",
       "      <td>Mary Pope Osborne</td>\n",
       "      <td>NaN</td>\n",
       "      <td>NaN</td>\n",
       "      <td>NaN</td>\n",
       "      <td>0 days 07:09:00</td>\n",
       "      <td>2020-01-09</td>\n",
       "      <td>English</td>\n",
       "      <td>5.0</td>\n",
       "      <td>1256.0</td>\n",
       "      <td>3.0</td>\n",
       "    </tr>\n",
       "    <tr>\n",
       "      <th>27</th>\n",
       "      <td>Geronimo Stilton #20 and #21</td>\n",
       "      <td>Geronimo Stilton</td>\n",
       "      <td>NaN</td>\n",
       "      <td>NaN</td>\n",
       "      <td>NaN</td>\n",
       "      <td>Bill Lobley</td>\n",
       "      <td>NaN</td>\n",
       "      <td>NaN</td>\n",
       "      <td>NaN</td>\n",
       "      <td>0 days 02:32:00</td>\n",
       "      <td>2010-01-10</td>\n",
       "      <td>English</td>\n",
       "      <td>5.0</td>\n",
       "      <td>469.0</td>\n",
       "      <td>18.0</td>\n",
       "    </tr>\n",
       "    <tr>\n",
       "      <th>28</th>\n",
       "      <td>The Red Pyramid</td>\n",
       "      <td>Rick Riordan</td>\n",
       "      <td>NaN</td>\n",
       "      <td>NaN</td>\n",
       "      <td>NaN</td>\n",
       "      <td>Jane Collingwood</td>\n",
       "      <td>Joseph May</td>\n",
       "      <td>NaN</td>\n",
       "      <td>NaN</td>\n",
       "      <td>0 days 13:44:00</td>\n",
       "      <td>2013-01-24</td>\n",
       "      <td>English</td>\n",
       "      <td>4.5</td>\n",
       "      <td>820.0</td>\n",
       "      <td>37.0</td>\n",
       "    </tr>\n",
       "    <tr>\n",
       "      <th>29</th>\n",
       "      <td>Mystery of the Griefer's Mark</td>\n",
       "      <td>Winter Morgan</td>\n",
       "      <td>NaN</td>\n",
       "      <td>NaN</td>\n",
       "      <td>NaN</td>\n",
       "      <td>Luke Daniels</td>\n",
       "      <td>NaN</td>\n",
       "      <td>NaN</td>\n",
       "      <td>NaN</td>\n",
       "      <td>0 days 01:53:00</td>\n",
       "      <td>2014-11-25</td>\n",
       "      <td>English</td>\n",
       "      <td>5.0</td>\n",
       "      <td>233.0</td>\n",
       "      <td>9.0</td>\n",
       "    </tr>\n",
       "    <tr>\n",
       "      <th>30</th>\n",
       "      <td>Geronimo Stilton #17</td>\n",
       "      <td>Geronimo Stilton</td>\n",
       "      <td>NaN</td>\n",
       "      <td>NaN</td>\n",
       "      <td>NaN</td>\n",
       "      <td>Bill Lobley</td>\n",
       "      <td>NaN</td>\n",
       "      <td>NaN</td>\n",
       "      <td>NaN</td>\n",
       "      <td>0 days 02:28:00</td>\n",
       "      <td>2009-07-13</td>\n",
       "      <td>English</td>\n",
       "      <td>5.0</td>\n",
       "      <td>468.0</td>\n",
       "      <td>8.0</td>\n",
       "    </tr>\n",
       "    <tr>\n",
       "      <th>31</th>\n",
       "      <td>The House at Pooh Corner</td>\n",
       "      <td>A.A.Milne</td>\n",
       "      <td>NaN</td>\n",
       "      <td>NaN</td>\n",
       "      <td>NaN</td>\n",
       "      <td>Peter Dennis</td>\n",
       "      <td>NaN</td>\n",
       "      <td>NaN</td>\n",
       "      <td>NaN</td>\n",
       "      <td>0 days 03:12:00</td>\n",
       "      <td>2005-05-04</td>\n",
       "      <td>English</td>\n",
       "      <td>5.0</td>\n",
       "      <td>374.0</td>\n",
       "      <td>5.0</td>\n",
       "    </tr>\n",
       "    <tr>\n",
       "      <th>32</th>\n",
       "      <td>Mission Unstoppable</td>\n",
       "      <td>Dan Gutman</td>\n",
       "      <td>NaN</td>\n",
       "      <td>NaN</td>\n",
       "      <td>NaN</td>\n",
       "      <td>Michael Goldstrom</td>\n",
       "      <td>NaN</td>\n",
       "      <td>NaN</td>\n",
       "      <td>NaN</td>\n",
       "      <td>0 days 06:08:00</td>\n",
       "      <td>2013-01-08</td>\n",
       "      <td>English</td>\n",
       "      <td>5.0</td>\n",
       "      <td>702.0</td>\n",
       "      <td>8.0</td>\n",
       "    </tr>\n",
       "    <tr>\n",
       "      <th>33</th>\n",
       "      <td>Darkness of Dragons</td>\n",
       "      <td>Tui T.Sutherland</td>\n",
       "      <td>NaN</td>\n",
       "      <td>NaN</td>\n",
       "      <td>NaN</td>\n",
       "      <td>Shannon Mc Manus</td>\n",
       "      <td>NaN</td>\n",
       "      <td>NaN</td>\n",
       "      <td>NaN</td>\n",
       "      <td>0 days 10:26:00</td>\n",
       "      <td>2017-01-08</td>\n",
       "      <td>English</td>\n",
       "      <td>5.0</td>\n",
       "      <td>656.0</td>\n",
       "      <td>8.0</td>\n",
       "    </tr>\n",
       "    <tr>\n",
       "      <th>34</th>\n",
       "      <td>14 Short Stories Bundle for Kids: Adventure, S...</td>\n",
       "      <td>Nayomi Phillips</td>\n",
       "      <td>NaN</td>\n",
       "      <td>NaN</td>\n",
       "      <td>NaN</td>\n",
       "      <td>Monica Rachelle</td>\n",
       "      <td>Jim D.Johnston</td>\n",
       "      <td>Katie Otten</td>\n",
       "      <td>NaN</td>\n",
       "      <td>0 days 03:13:00</td>\n",
       "      <td>2019-01-22</td>\n",
       "      <td>English</td>\n",
       "      <td>0.0</td>\n",
       "      <td>501.0</td>\n",
       "      <td>NaN</td>\n",
       "    </tr>\n",
       "    <tr>\n",
       "      <th>35</th>\n",
       "      <td>The Adventures of Rusty</td>\n",
       "      <td>Ruskin Bond</td>\n",
       "      <td>NaN</td>\n",
       "      <td>NaN</td>\n",
       "      <td>NaN</td>\n",
       "      <td>Neha Gargava</td>\n",
       "      <td>NaN</td>\n",
       "      <td>NaN</td>\n",
       "      <td>NaN</td>\n",
       "      <td>0 days 05:41:00</td>\n",
       "      <td>2018-01-11</td>\n",
       "      <td>Hindi</td>\n",
       "      <td>4.5</td>\n",
       "      <td>284.0</td>\n",
       "      <td>10.0</td>\n",
       "    </tr>\n",
       "    <tr>\n",
       "      <th>36</th>\n",
       "      <td>Geronimo Stilton #15 and #16</td>\n",
       "      <td>Geronimo Stilton</td>\n",
       "      <td>NaN</td>\n",
       "      <td>NaN</td>\n",
       "      <td>NaN</td>\n",
       "      <td>Bill Lobley</td>\n",
       "      <td>NaN</td>\n",
       "      <td>NaN</td>\n",
       "      <td>NaN</td>\n",
       "      <td>0 days 02:43:00</td>\n",
       "      <td>2008-08-02</td>\n",
       "      <td>English</td>\n",
       "      <td>4.0</td>\n",
       "      <td>467.0</td>\n",
       "      <td>28.0</td>\n",
       "    </tr>\n",
       "    <tr>\n",
       "      <th>37</th>\n",
       "      <td>The Lost Heir</td>\n",
       "      <td>Tui T.Sutherland</td>\n",
       "      <td>NaN</td>\n",
       "      <td>NaN</td>\n",
       "      <td>NaN</td>\n",
       "      <td>Shannon Mc Manus</td>\n",
       "      <td>NaN</td>\n",
       "      <td>NaN</td>\n",
       "      <td>NaN</td>\n",
       "      <td>0 days 07:23:00</td>\n",
       "      <td>2016-04-02</td>\n",
       "      <td>English</td>\n",
       "      <td>5.0</td>\n",
       "      <td>575.0</td>\n",
       "      <td>9.0</td>\n",
       "    </tr>\n",
       "    <tr>\n",
       "      <th>38</th>\n",
       "      <td>Everblaze</td>\n",
       "      <td>Shannon Messenger</td>\n",
       "      <td>NaN</td>\n",
       "      <td>NaN</td>\n",
       "      <td>NaN</td>\n",
       "      <td>Caitlin Kelly</td>\n",
       "      <td>NaN</td>\n",
       "      <td>NaN</td>\n",
       "      <td>NaN</td>\n",
       "      <td>0 days 14:39:00</td>\n",
       "      <td>2018-06-11</td>\n",
       "      <td>English</td>\n",
       "      <td>5.0</td>\n",
       "      <td>836.0</td>\n",
       "      <td>18.0</td>\n",
       "    </tr>\n",
       "    <tr>\n",
       "      <th>39</th>\n",
       "      <td>Treasure Hunters in Trouble</td>\n",
       "      <td>Winter Morgan</td>\n",
       "      <td>NaN</td>\n",
       "      <td>NaN</td>\n",
       "      <td>NaN</td>\n",
       "      <td>Luke Daniels</td>\n",
       "      <td>NaN</td>\n",
       "      <td>NaN</td>\n",
       "      <td>NaN</td>\n",
       "      <td>0 days 01:58:00</td>\n",
       "      <td>2015-03-31</td>\n",
       "      <td>English</td>\n",
       "      <td>5.0</td>\n",
       "      <td>668.0</td>\n",
       "      <td>7.0</td>\n",
       "    </tr>\n",
       "    <tr>\n",
       "      <th>40</th>\n",
       "      <td>Lodestar</td>\n",
       "      <td>Shannon Messenger</td>\n",
       "      <td>NaN</td>\n",
       "      <td>NaN</td>\n",
       "      <td>NaN</td>\n",
       "      <td>Caitlin Kelly</td>\n",
       "      <td>NaN</td>\n",
       "      <td>NaN</td>\n",
       "      <td>NaN</td>\n",
       "      <td>0 days 16:31:00</td>\n",
       "      <td>2018-06-11</td>\n",
       "      <td>English</td>\n",
       "      <td>5.0</td>\n",
       "      <td>1003.0</td>\n",
       "      <td>19.0</td>\n",
       "    </tr>\n",
       "    <tr>\n",
       "      <th>41</th>\n",
       "      <td>Curse of the Arctic Star</td>\n",
       "      <td>Carolyn Keene</td>\n",
       "      <td>NaN</td>\n",
       "      <td>NaN</td>\n",
       "      <td>NaN</td>\n",
       "      <td>Jorjeana Marie</td>\n",
       "      <td>NaN</td>\n",
       "      <td>NaN</td>\n",
       "      <td>NaN</td>\n",
       "      <td>0 days 03:35:00</td>\n",
       "      <td>2014-12-28</td>\n",
       "      <td>English</td>\n",
       "      <td>4.5</td>\n",
       "      <td>305.0</td>\n",
       "      <td>25.0</td>\n",
       "    </tr>\n",
       "    <tr>\n",
       "      <th>42</th>\n",
       "      <td>The Ghost of Grey Fox Inn</td>\n",
       "      <td>Carolyn Keene</td>\n",
       "      <td>NaN</td>\n",
       "      <td>NaN</td>\n",
       "      <td>NaN</td>\n",
       "      <td>Jorjeana Marie</td>\n",
       "      <td>NaN</td>\n",
       "      <td>NaN</td>\n",
       "      <td>NaN</td>\n",
       "      <td>0 days 03:19:00</td>\n",
       "      <td>2017-03-20</td>\n",
       "      <td>English</td>\n",
       "      <td>5.0</td>\n",
       "      <td>305.0</td>\n",
       "      <td>11.0</td>\n",
       "    </tr>\n",
       "    <tr>\n",
       "      <th>43</th>\n",
       "      <td>Rowley Jefferson's Awesome Friendly Adventure</td>\n",
       "      <td>Jeff Kinney</td>\n",
       "      <td>NaN</td>\n",
       "      <td>NaN</td>\n",
       "      <td>NaN</td>\n",
       "      <td>Christopher Gebauer</td>\n",
       "      <td>NaN</td>\n",
       "      <td>NaN</td>\n",
       "      <td>NaN</td>\n",
       "      <td>0 days 01:31:00</td>\n",
       "      <td>2020-04-08</td>\n",
       "      <td>English</td>\n",
       "      <td>4.0</td>\n",
       "      <td>410.0</td>\n",
       "      <td>16.0</td>\n",
       "    </tr>\n",
       "    <tr>\n",
       "      <th>44</th>\n",
       "      <td>Flashback</td>\n",
       "      <td>Shannon Messenger</td>\n",
       "      <td>NaN</td>\n",
       "      <td>NaN</td>\n",
       "      <td>NaN</td>\n",
       "      <td>Caitlin Kelly</td>\n",
       "      <td>NaN</td>\n",
       "      <td>NaN</td>\n",
       "      <td>NaN</td>\n",
       "      <td>0 days 23:09:00</td>\n",
       "      <td>2018-11-12</td>\n",
       "      <td>English</td>\n",
       "      <td>5.0</td>\n",
       "      <td>1170.0</td>\n",
       "      <td>12.0</td>\n",
       "    </tr>\n",
       "    <tr>\n",
       "      <th>45</th>\n",
       "      <td>Secret of the Red Arrow</td>\n",
       "      <td>Franklin W.Dixon</td>\n",
       "      <td>NaN</td>\n",
       "      <td>NaN</td>\n",
       "      <td>NaN</td>\n",
       "      <td>Tim Gregory</td>\n",
       "      <td>NaN</td>\n",
       "      <td>NaN</td>\n",
       "      <td>NaN</td>\n",
       "      <td>0 days 03:33:00</td>\n",
       "      <td>2015-04-11</td>\n",
       "      <td>English</td>\n",
       "      <td>4.5</td>\n",
       "      <td>305.0</td>\n",
       "      <td>16.0</td>\n",
       "    </tr>\n",
       "    <tr>\n",
       "      <th>46</th>\n",
       "      <td>The Lightning Thief: Percy Jackson, Book 1</td>\n",
       "      <td>Rick Riordan</td>\n",
       "      <td>NaN</td>\n",
       "      <td>NaN</td>\n",
       "      <td>NaN</td>\n",
       "      <td>Walter Lewis</td>\n",
       "      <td>NaN</td>\n",
       "      <td>NaN</td>\n",
       "      <td>NaN</td>\n",
       "      <td>0 days 03:51:00</td>\n",
       "      <td>2010-01-13</td>\n",
       "      <td>English</td>\n",
       "      <td>4.0</td>\n",
       "      <td>615.0</td>\n",
       "      <td>4.0</td>\n",
       "    </tr>\n",
       "    <tr>\n",
       "      <th>47</th>\n",
       "      <td>Clash of the Creepers</td>\n",
       "      <td>Winter Morgan</td>\n",
       "      <td>NaN</td>\n",
       "      <td>NaN</td>\n",
       "      <td>NaN</td>\n",
       "      <td>Luke Daniels</td>\n",
       "      <td>NaN</td>\n",
       "      <td>NaN</td>\n",
       "      <td>NaN</td>\n",
       "      <td>0 days 02:01:00</td>\n",
       "      <td>2015-07-07</td>\n",
       "      <td>English</td>\n",
       "      <td>5.0</td>\n",
       "      <td>233.0</td>\n",
       "      <td>10.0</td>\n",
       "    </tr>\n",
       "    <tr>\n",
       "      <th>48</th>\n",
       "      <td>The Skeletons Strike Back</td>\n",
       "      <td>Winter Morgan</td>\n",
       "      <td>NaN</td>\n",
       "      <td>NaN</td>\n",
       "      <td>NaN</td>\n",
       "      <td>Luke Daniels</td>\n",
       "      <td>NaN</td>\n",
       "      <td>NaN</td>\n",
       "      <td>NaN</td>\n",
       "      <td>0 days 02:01:00</td>\n",
       "      <td>2015-07-07</td>\n",
       "      <td>English</td>\n",
       "      <td>5.0</td>\n",
       "      <td>233.0</td>\n",
       "      <td>7.0</td>\n",
       "    </tr>\n",
       "    <tr>\n",
       "      <th>49</th>\n",
       "      <td>Dragonslayer</td>\n",
       "      <td>Tui T.Sutherland</td>\n",
       "      <td>NaN</td>\n",
       "      <td>NaN</td>\n",
       "      <td>NaN</td>\n",
       "      <td>Shannon Mc Manus</td>\n",
       "      <td>NaN</td>\n",
       "      <td>NaN</td>\n",
       "      <td>NaN</td>\n",
       "      <td>0 days 12:44:00</td>\n",
       "      <td>2020-03-03</td>\n",
       "      <td>English</td>\n",
       "      <td>5.0</td>\n",
       "      <td>656.0</td>\n",
       "      <td>17.0</td>\n",
       "    </tr>\n",
       "  </tbody>\n",
       "</table>\n",
       "</div>"
      ],
      "text/plain": [
       "                                                 name              author1  \\\n",
       "0                          Geronimo Stilton #11 & #12     Geronimo Stilton   \n",
       "1                                    The Burning Maze         Rick Riordan   \n",
       "2                                        The Deep End          Jeff Kinney   \n",
       "3                                Daughter of the Deep         Rick Riordan   \n",
       "4          The Lightning Thief: Percy Jackson, Book 1         Rick Riordan   \n",
       "5                   The Hunger Games: Special Edition      Suzanne Collins   \n",
       "6                         Quest for the Diamond Sword        Winter Morgan   \n",
       "7                                   The Dark Prophecy         Rick Riordan   \n",
       "8                           Merlin Mission Collection    Mary Pope Osborne   \n",
       "9                                    The Tyrants Tomb         Rick Riordan   \n",
       "10           The Titan's Curse: Percy Jackson, Book 3         Rick Riordan   \n",
       "11            Magic Tree House Collection: Books 9-16    Mary Pope Osborne   \n",
       "12             Magic Tree House Collection: Books 1-8    Mary Pope Osborne   \n",
       "13              Magnus Chase and the Ship of the Dead         Rick Riordan   \n",
       "14                                    Northern Lights       Philip Pullman   \n",
       "15                       Geronimo Stilton #13 and #14     Geronimo Stilton   \n",
       "16                        Magic Tree House Collection    Mary Pope Osborne   \n",
       "17                                              Exile    Shannon Messenger   \n",
       "18                          Merlin Mission Collection    Mary Pope Osborne   \n",
       "19                                          Neverseen    Shannon Messenger   \n",
       "20                                  The Tower of Nero         Rick Riordan   \n",
       "21              Eldest: The Inheritance Cycle, Book 2  Christopher Paolini   \n",
       "22                                       Artemis Fowl          Eoin Colfer   \n",
       "23                           Geronimo Stilton 22 & 24     Geronimo Stilton   \n",
       "24      Percy Jackson and the Battle of the Labyrinth         Rick Riordan   \n",
       "25                                    Winnie-the-Pooh            A.A.Milne   \n",
       "26           Magic Tree House Collection: Books 25-32    Mary Pope Osborne   \n",
       "27                       Geronimo Stilton #20 and #21     Geronimo Stilton   \n",
       "28                                    The Red Pyramid         Rick Riordan   \n",
       "29                      Mystery of the Griefer's Mark        Winter Morgan   \n",
       "30                               Geronimo Stilton #17     Geronimo Stilton   \n",
       "31                           The House at Pooh Corner            A.A.Milne   \n",
       "32                                Mission Unstoppable           Dan Gutman   \n",
       "33                                Darkness of Dragons     Tui T.Sutherland   \n",
       "34  14 Short Stories Bundle for Kids: Adventure, S...      Nayomi Phillips   \n",
       "35                            The Adventures of Rusty          Ruskin Bond   \n",
       "36                       Geronimo Stilton #15 and #16     Geronimo Stilton   \n",
       "37                                      The Lost Heir     Tui T.Sutherland   \n",
       "38                                          Everblaze    Shannon Messenger   \n",
       "39                        Treasure Hunters in Trouble        Winter Morgan   \n",
       "40                                           Lodestar    Shannon Messenger   \n",
       "41                           Curse of the Arctic Star        Carolyn Keene   \n",
       "42                          The Ghost of Grey Fox Inn        Carolyn Keene   \n",
       "43      Rowley Jefferson's Awesome Friendly Adventure          Jeff Kinney   \n",
       "44                                          Flashback    Shannon Messenger   \n",
       "45                            Secret of the Red Arrow     Franklin W.Dixon   \n",
       "46         The Lightning Thief: Percy Jackson, Book 1         Rick Riordan   \n",
       "47                              Clash of the Creepers        Winter Morgan   \n",
       "48                          The Skeletons Strike Back        Winter Morgan   \n",
       "49                                       Dragonslayer     Tui T.Sutherland   \n",
       "\n",
       "   author2 author3 author4            narrator1       narrator2    narrator3  \\\n",
       "0      NaN     NaN     NaN          Bill Lobely             NaN          NaN   \n",
       "1      NaN     NaN     NaN       Robbie Daymond             NaN          NaN   \n",
       "2      NaN     NaN     NaN          Dan Russell             NaN          NaN   \n",
       "3      NaN     NaN     NaN      Soneela Nankani             NaN          NaN   \n",
       "4      NaN     NaN     NaN      Jesse Bernstein             NaN          NaN   \n",
       "5      NaN     NaN     NaN      Tatiana Maslany             NaN          NaN   \n",
       "6      NaN     NaN     NaN         Luke Daniels             NaN          NaN   \n",
       "7      NaN     NaN     NaN       Robbie Daymond             NaN          NaN   \n",
       "8      NaN     NaN     NaN    Mary Pope Osborne             NaN          NaN   \n",
       "9      NaN     NaN     NaN       Robbie Daymond             NaN          NaN   \n",
       "10     NaN     NaN     NaN      Jesse Bernstein             NaN          NaN   \n",
       "11     NaN     NaN     NaN    Mary Pope Osborne             NaN          NaN   \n",
       "12     NaN     NaN     NaN    Mary Pope Osborne             NaN          NaN   \n",
       "13     NaN     NaN     NaN       Michael Crouch             NaN          NaN   \n",
       "14     NaN     NaN     NaN       Philip Pullman        fullcast  Ruth Wilson   \n",
       "15     NaN     NaN     NaN          Bill Lobley             NaN          NaN   \n",
       "16     NaN     NaN     NaN    Mary Pope Osborne             NaN          NaN   \n",
       "17     NaN     NaN     NaN        Caitlin Kelly             NaN          NaN   \n",
       "18     NaN     NaN     NaN    Mary Pope Osborne             NaN          NaN   \n",
       "19     NaN     NaN     NaN        Caitlin Kelly             NaN          NaN   \n",
       "20     NaN     NaN     NaN       Robbie Daymond             NaN          NaN   \n",
       "21     NaN     NaN     NaN        Gerrard Doyle             NaN          NaN   \n",
       "22     NaN     NaN     NaN        Gerry O'Brien             NaN          NaN   \n",
       "23     NaN     NaN     NaN          Bill Lobley             NaN          NaN   \n",
       "24     NaN     NaN     NaN      Jesse Bernstein             NaN          NaN   \n",
       "25     NaN     NaN     NaN         Peter Dennis             NaN          NaN   \n",
       "26     NaN     NaN     NaN    Mary Pope Osborne             NaN          NaN   \n",
       "27     NaN     NaN     NaN          Bill Lobley             NaN          NaN   \n",
       "28     NaN     NaN     NaN     Jane Collingwood      Joseph May          NaN   \n",
       "29     NaN     NaN     NaN         Luke Daniels             NaN          NaN   \n",
       "30     NaN     NaN     NaN          Bill Lobley             NaN          NaN   \n",
       "31     NaN     NaN     NaN         Peter Dennis             NaN          NaN   \n",
       "32     NaN     NaN     NaN    Michael Goldstrom             NaN          NaN   \n",
       "33     NaN     NaN     NaN     Shannon Mc Manus             NaN          NaN   \n",
       "34     NaN     NaN     NaN      Monica Rachelle  Jim D.Johnston  Katie Otten   \n",
       "35     NaN     NaN     NaN         Neha Gargava             NaN          NaN   \n",
       "36     NaN     NaN     NaN          Bill Lobley             NaN          NaN   \n",
       "37     NaN     NaN     NaN     Shannon Mc Manus             NaN          NaN   \n",
       "38     NaN     NaN     NaN        Caitlin Kelly             NaN          NaN   \n",
       "39     NaN     NaN     NaN         Luke Daniels             NaN          NaN   \n",
       "40     NaN     NaN     NaN        Caitlin Kelly             NaN          NaN   \n",
       "41     NaN     NaN     NaN       Jorjeana Marie             NaN          NaN   \n",
       "42     NaN     NaN     NaN       Jorjeana Marie             NaN          NaN   \n",
       "43     NaN     NaN     NaN  Christopher Gebauer             NaN          NaN   \n",
       "44     NaN     NaN     NaN        Caitlin Kelly             NaN          NaN   \n",
       "45     NaN     NaN     NaN          Tim Gregory             NaN          NaN   \n",
       "46     NaN     NaN     NaN         Walter Lewis             NaN          NaN   \n",
       "47     NaN     NaN     NaN         Luke Daniels             NaN          NaN   \n",
       "48     NaN     NaN     NaN         Luke Daniels             NaN          NaN   \n",
       "49     NaN     NaN     NaN     Shannon Mc Manus             NaN          NaN   \n",
       "\n",
       "   narrator4            time releasedate language  stars   price  num_reviews  \n",
       "0        NaN 0 days 02:20:00  2008-04-08  English    5.0   468.0         34.0  \n",
       "1        NaN 0 days 13:08:00  2018-01-05  English    4.5   820.0         41.0  \n",
       "2        NaN 0 days 02:03:00  2020-06-11  English    4.5   410.0         38.0  \n",
       "3        NaN 0 days 11:16:00  2021-05-10  English    4.5   615.0         12.0  \n",
       "4        NaN 0 days 10:00:00  2010-01-13  English    4.5   820.0        181.0  \n",
       "5        NaN 0 days 10:35:00  2018-10-30  English    5.0   656.0         72.0  \n",
       "6        NaN 0 days 02:23:00  2014-11-25  English    5.0   233.0         11.0  \n",
       "7        NaN 0 days 12:32:00  2017-02-05  English    5.0   820.0         50.0  \n",
       "8        NaN 0 days 10:56:00  2017-02-05  English    5.0  1256.0          5.0  \n",
       "9        NaN 0 days 13:22:00  2019-09-24  English    5.0   820.0         58.0  \n",
       "10       NaN 0 days 08:48:00  2010-01-14  English    4.5   820.0        130.0  \n",
       "11       NaN 0 days 05:23:00  2011-08-24  English    5.0  1206.0          6.0  \n",
       "12       NaN 0 days 06:01:00  2011-09-27  English    5.0  1206.0          7.0  \n",
       "13       NaN 0 days 12:58:00  2017-03-10  English    5.0   820.0         41.0  \n",
       "14       NaN 0 days 11:55:00  2021-06-24  English    4.0  1093.0          2.0  \n",
       "15       NaN 0 days 02:25:00  2008-08-02  English    4.5   467.0         33.0  \n",
       "16       NaN 0 days 05:04:00  2004-12-26  English    5.0  1206.0          7.0  \n",
       "17       NaN 0 days 14:41:00  2018-06-11  English    5.0   836.0         20.0  \n",
       "18       NaN 0 days 10:18:00  2017-02-05  English    5.0  1256.0         11.0  \n",
       "19       NaN 0 days 16:42:00  2018-06-11  English    5.0  1003.0         13.0  \n",
       "20       NaN 0 days 12:12:00  2020-06-10  English    5.0   615.0         79.0  \n",
       "21       NaN 0 days 23:29:00  2009-04-14  English    4.5   957.0         47.0  \n",
       "22       NaN 0 days 06:46:00  2013-11-04  English    5.0   683.0         27.0  \n",
       "23       NaN 0 days 02:37:00  2011-01-02  English    4.5   469.0         25.0  \n",
       "24       NaN 0 days 10:32:00  2010-01-21  English    5.0   820.0        101.0  \n",
       "25       NaN 0 days 02:46:00  2003-12-28  English    5.0   468.0         15.0  \n",
       "26       NaN 0 days 07:09:00  2020-01-09  English    5.0  1256.0          3.0  \n",
       "27       NaN 0 days 02:32:00  2010-01-10  English    5.0   469.0         18.0  \n",
       "28       NaN 0 days 13:44:00  2013-01-24  English    4.5   820.0         37.0  \n",
       "29       NaN 0 days 01:53:00  2014-11-25  English    5.0   233.0          9.0  \n",
       "30       NaN 0 days 02:28:00  2009-07-13  English    5.0   468.0          8.0  \n",
       "31       NaN 0 days 03:12:00  2005-05-04  English    5.0   374.0          5.0  \n",
       "32       NaN 0 days 06:08:00  2013-01-08  English    5.0   702.0          8.0  \n",
       "33       NaN 0 days 10:26:00  2017-01-08  English    5.0   656.0          8.0  \n",
       "34       NaN 0 days 03:13:00  2019-01-22  English    0.0   501.0          NaN  \n",
       "35       NaN 0 days 05:41:00  2018-01-11    Hindi    4.5   284.0         10.0  \n",
       "36       NaN 0 days 02:43:00  2008-08-02  English    4.0   467.0         28.0  \n",
       "37       NaN 0 days 07:23:00  2016-04-02  English    5.0   575.0          9.0  \n",
       "38       NaN 0 days 14:39:00  2018-06-11  English    5.0   836.0         18.0  \n",
       "39       NaN 0 days 01:58:00  2015-03-31  English    5.0   668.0          7.0  \n",
       "40       NaN 0 days 16:31:00  2018-06-11  English    5.0  1003.0         19.0  \n",
       "41       NaN 0 days 03:35:00  2014-12-28  English    4.5   305.0         25.0  \n",
       "42       NaN 0 days 03:19:00  2017-03-20  English    5.0   305.0         11.0  \n",
       "43       NaN 0 days 01:31:00  2020-04-08  English    4.0   410.0         16.0  \n",
       "44       NaN 0 days 23:09:00  2018-11-12  English    5.0  1170.0         12.0  \n",
       "45       NaN 0 days 03:33:00  2015-04-11  English    4.5   305.0         16.0  \n",
       "46       NaN 0 days 03:51:00  2010-01-13  English    4.0   615.0          4.0  \n",
       "47       NaN 0 days 02:01:00  2015-07-07  English    5.0   233.0         10.0  \n",
       "48       NaN 0 days 02:01:00  2015-07-07  English    5.0   233.0          7.0  \n",
       "49       NaN 0 days 12:44:00  2020-03-03  English    5.0   656.0         17.0  "
      ]
     },
     "execution_count": 45,
     "metadata": {},
     "output_type": "execute_result"
    }
   ],
   "source": [
    "df.head(50)"
   ]
  },
  {
   "cell_type": "code",
   "execution_count": 48,
   "metadata": {
    "tags": []
   },
   "outputs": [
    {
     "data": {
      "text/plain": [
       "86713"
      ]
     },
     "execution_count": 48,
     "metadata": {},
     "output_type": "execute_result"
    }
   ],
   "source": [
    "df['author4'].isnull().sum()"
   ]
  },
  {
   "cell_type": "code",
   "execution_count": 49,
   "metadata": {
    "tags": []
   },
   "outputs": [
    {
     "data": {
      "text/plain": [
       "(87489, 15)"
      ]
     },
     "execution_count": 49,
     "metadata": {},
     "output_type": "execute_result"
    }
   ],
   "source": [
    "df.shape"
   ]
  },
  {
   "cell_type": "code",
   "execution_count": null,
   "metadata": {},
   "outputs": [],
   "source": []
  }
 ],
 "metadata": {
  "colab": {
   "provenance": []
  },
  "kernelspec": {
   "display_name": "Python 3 (ipykernel)",
   "language": "python",
   "name": "python3"
  },
  "language_info": {
   "codemirror_mode": {
    "name": "ipython",
    "version": 3
   },
   "file_extension": ".py",
   "mimetype": "text/x-python",
   "name": "python",
   "nbconvert_exporter": "python",
   "pygments_lexer": "ipython3",
   "version": "3.11.4"
  }
 },
 "nbformat": 4,
 "nbformat_minor": 4
}
